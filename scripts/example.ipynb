{
 "metadata": {
  "language_info": {
   "codemirror_mode": {
    "name": "ipython",
    "version": 3
   },
   "file_extension": ".py",
   "mimetype": "text/x-python",
   "name": "python",
   "nbconvert_exporter": "python",
   "pygments_lexer": "ipython3",
   "version": "3.9.0-final"
  },
  "orig_nbformat": 2,
  "kernelspec": {
   "name": "python3",
   "display_name": "Python 3.9.0 64-bit ('quantum-web-services': pipenv)",
   "metadata": {
    "interpreter": {
     "hash": "06dddd6ec0f6300f175982327ad7428d33815bab745912a76311eff16db064ed"
    }
   }
  }
 },
 "nbformat": 4,
 "nbformat_minor": 2,
 "cells": [
  {
   "source": [
    "\"\"\"A simple script to exercise the web app and celery to compute a result.\"\"\"\n",
    "from time import sleep\n",
    "\n",
    "import requests\n",
    "from qcelemental.models import AtomicInput, AtomicResult, Molecule\n",
    "from qcelemental.models.common_models import Model"
   ],
   "cell_type": "code",
   "metadata": {},
   "execution_count": 8,
   "outputs": []
  },
  {
   "cell_type": "code",
   "execution_count": 9,
   "metadata": {},
   "outputs": [
    {
     "output_type": "stream",
     "name": "stdout",
     "text": [
      "\tSearching PubChem database for water (single best match returned)\n",
      "\tFound 1 result(s)\n",
      "AtomicInput(driver='energy', model={'method': 'B3LYP', 'basis': '6-31g'}, molecule_hash='b6ec4fa')\n"
     ]
    }
   ],
   "source": [
    "\n",
    "molecule = Molecule.from_data(\"pubchem:water\")\n",
    "model = Model(method=\"B3LYP\", basis=\"6-31g\")\n",
    "driver = \"energy\"\n",
    "atomic_input = AtomicInput(molecule=molecule, model=model, driver=driver)\n",
    "print(atomic_input)"
   ]
  },
  {
   "cell_type": "code",
   "execution_count": 15,
   "metadata": {},
   "outputs": [
    {
     "output_type": "display_data",
     "data": {
      "text/plain": "NGLWidget()",
      "application/vnd.jupyter.widget-view+json": {
       "version_major": 2,
       "version_minor": 0,
       "model_id": "224c4519be1a4adc96a1e84de1f8a7ce"
      }
     },
     "metadata": {}
    }
   ],
   "source": [
    "atomic_input.molecule"
   ]
  },
  {
   "cell_type": "code",
   "execution_count": 16,
   "metadata": {},
   "outputs": [
    {
     "output_type": "stream",
     "name": "stdout",
     "text": [
      "200\n6f995f37-667d-4a69-9695-e8482390fcd9\n"
     ]
    }
   ],
   "source": [
    "\n",
    "# HOST = \"http://localhost:8000\"\n",
    "HOST = \"https://tcc.dev.mtzlab.com\"\n",
    "\n",
    "r1 = requests.post(\n",
    "        f\"{HOST}/compute\",\n",
    "        data=atomic_input.json(),\n",
    "        params={\"engine\": \"psi4\"},\n",
    "    )\n",
    "print(r1.status_code)\n",
    "print(r1.json())"
   ]
  },
  {
   "cell_type": "code",
   "execution_count": 17,
   "metadata": {},
   "outputs": [
    {
     "output_type": "stream",
     "name": "stdout",
     "text": [
      "<Response [200]>\n['SUCCESS', {'id': None, 'schema_name': 'qcschema_output', 'schema_version': 1, 'molecule': {'schema_name': 'qcschema_molecule', 'schema_version': 2, 'validated': True, 'symbols': ['O', 'H', 'H'], 'geometry': [-0.10142170857663188, -0.07509332367630613, 0.0, -0.05369405559400764, 1.7554092274683715, 0.0, 1.6633301703714394, -0.5636236870312887, 0.0], 'name': 'IUPAC oxidane', 'molecular_charge': 0.0, 'molecular_multiplicity': 1, 'fix_com': False, 'fix_orientation': False, 'provenance': {'creator': 'QCElemental', 'version': 'v0.17.0', 'routine': 'qcelemental.molparse.from_string'}}, 'driver': 'energy', 'model': {'method': 'B3LYP', 'basis': '6-31g'}, 'keywords': {}, 'protocols': {}, 'extras': {'qcvars': {'-D ENERGY': 0.0, 'CURRENT DIPOLE X': 1.9802882827275228, 'CURRENT DIPOLE Y': 1.4662172058184162, 'CURRENT DIPOLE Z': 0.0, 'CURRENT ENERGY': -76.38546709866571, 'CURRENT REFERENCE ENERGY': -76.38546709866571, 'DFT FUNCTIONAL TOTAL ENERGY': -76.38546709866571, 'DFT TOTAL ENERGY': -76.38546709866571, 'DFT VV10 ENERGY': 0.0, 'DFT XC ENERGY': -7.561530666059832, 'NUCLEAR REPULSION ENERGY': 9.084364497686215, 'ONE-ELECTRON ENERGY': -122.86147164423456, 'PCM POLARIZATION ENERGY': 0.0, 'SCF DIPOLE X': 1.9802882827275228, 'SCF DIPOLE Y': 1.4662172058184162, 'SCF DIPOLE Z': 0.0, 'SCF ITERATION ENERGY': -76.38546709866571, 'SCF ITERATIONS': 6.0, 'SCF TOTAL ENERGY': -76.38546709866571, 'TWO-ELECTRON ENERGY': 44.95317071394246}}, 'provenance': {'creator': 'Psi4', 'version': '1.3.2', 'routine': 'psi4.json.run_json', 'cpu': 'Intel(R) Xeon(R) CPU E5-2680 v2 @ 2.80GHz', 'wall_time': 1.6871592998504639, 'nthreads': 10, 'hostname': '37e993f6cff6', 'memory': 108.316, 'username': 'root', 'qcengine_version': 'v0.17.0'}, 'properties': {'calcinfo_nbasis': 13, 'calcinfo_nmo': 13, 'calcinfo_nalpha': 5, 'calcinfo_nbeta': 5, 'calcinfo_natom': 3, 'nuclear_repulsion_energy': 9.084364497686215, 'return_energy': -76.38546709866571, 'scf_one_electron_energy': -122.86147164423456, 'scf_two_electron_energy': 44.95317071394246, 'scf_xc_energy': -7.561530666059832, 'scf_dipole_moment': [1.9802882827275228, 1.4662172058184162, 0.0], 'scf_total_energy': -76.38546709866571, 'scf_iterations': 6}, 'wavefunction': None, 'return_result': -76.38546709866571, 'stdout': '\\n  Memory set to 102.900 GiB by Python driver.\\n\\n*** tstart() called on 37e993f6cff6\\n*** at Fri Nov 20 21:15:53 2020\\n\\n   => Loading Basis Set <=\\n\\n    Name: 6-31G\\n    Role: ORBITAL\\n    Keyword: BASIS\\n    atoms 1   entry O          line   117 file /opt/conda/share/psi4/basis/6-31g.gbs \\n    atoms 2-3 entry H          line    26 file /opt/conda/share/psi4/basis/6-31g.gbs \\n\\n\\n         ---------------------------------------------------------\\n                                   SCF\\n               by Justin Turney, Rob Parrish, Andy Simmonett\\n                          and Daniel G. A. Smith\\n                              RKS Reference\\n                       10 Threads, 105369 MiB Core\\n         ---------------------------------------------------------\\n\\n  ==> Geometry <==\\n\\n    Molecular point group: cs\\n    Full point group: Cs\\n\\n    Geometry (in Bohr), charge = 0, multiplicity = 1:\\n\\n       Center              X                  Y                   Z               Mass       \\n    ------------   -----------------  -----------------  -----------------  -----------------\\n         O           -0.101421708577    -0.075093323676     0.000000000000    15.994914619570\\n         H           -0.053694055594     1.755409227468     0.000000000000     1.007825032230\\n         H            1.663330170371    -0.563623687031     0.000000000000     1.007825032230\\n\\n  Running in cs symmetry.\\n\\n  Rotational constants: A =     26.44908  B =     14.34823  C =      9.30202 [cm^-1]\\n  Rotational constants: A = 792923.47827  B = 430148.98626  C = 278867.55712 [MHz]\\n  Nuclear repulsion =    9.084364497686215\\n\\n  Charge       = 0\\n  Multiplicity = 1\\n  Electrons    = 10\\n  Nalpha       = 5\\n  Nbeta        = 5\\n\\n  ==> Algorithm <==\\n\\n  SCF Algorithm Type is DF.\\n  DIIS enabled.\\n  MOM disabled.\\n  Fractional occupation disabled.\\n  Guess Type is SAD.\\n  Energy threshold   = 1.00e-06\\n  Density threshold  = 1.00e-06\\n  Integral threshold = 0.00e+00\\n\\n  ==> Primary Basis <==\\n\\n  Basis Set: 6-31G\\n    Blend: 6-31G\\n    Number of shells: 9\\n    Number of basis function: 13\\n    Number of Cartesian functions: 13\\n    Spherical Harmonics?: false\\n    Max angular momentum: 1\\n\\n  ==> DFT Potential <==\\n\\n   => Composite Functional: B3LYP <= \\n\\n    B3LYP Hyb-GGA Exchange-Correlation Functional\\n\\n    P. J. Stephens, F. J. Devlin, C. F. Chabalowski, and M. J. Frisch, J. Phys. Chem. 98, 11623 (1994)\\n\\n    Deriv               =              1\\n    GGA                 =           TRUE\\n    Meta                =          FALSE\\n\\n    Exchange Hybrid     =           TRUE\\n    MP2 Hybrid          =          FALSE\\n\\n   => Exchange Functionals <=\\n\\n    0.0800   Slater exchange\\n    0.7200         Becke 88\\n\\n   => Exact (HF) Exchange <=\\n\\n    0.2000               HF \\n\\n   => Correlation Functionals <=\\n\\n    0.1900   Vosko, Wilk & Nusair (VWN5_RPA)\\n    0.8100   Lee, Yang & Parr\\n\\n   => Molecular Quadrature <=\\n\\n    Radial Scheme          =       TREUTLER\\n    Pruning Scheme         =           FLAT\\n    Nuclear Scheme         =       TREUTLER\\n\\n    BS radius alpha        =              1\\n    Pruning alpha          =              1\\n    Radial Points          =             75\\n    Spherical Points       =            302\\n    Total Points           =          65565\\n    Total Blocks           =            557\\n    Max Points             =            256\\n    Max Functions          =             13\\n\\n   => Loading Basis Set <=\\n\\n    Name: (6-31G AUX)\\n    Role: JKFIT\\n    Keyword: DF_BASIS_SCF\\n    atoms 1   entry O          line   221 file /opt/conda/share/psi4/basis/cc-pvdz-jkfit.gbs \\n    atoms 2-3 entry H          line    51 file /opt/conda/share/psi4/basis/cc-pvdz-jkfit.gbs \\n\\n  ==> Pre-Iterations <==\\n\\n   -------------------------------------------------------\\n    Irrep   Nso     Nmo     Nalpha   Nbeta   Ndocc  Nsocc\\n   -------------------------------------------------------\\n     A\\'        11      11       0       0       0       0\\n     A\"         2       2       0       0       0       0\\n   -------------------------------------------------------\\n    Total      13      13       5       5       5       0\\n   -------------------------------------------------------\\n\\n  ==> Integral Setup <==\\n\\n  DFHelper Memory: AOs need 0.000 GiB; user supplied 77.151 GiB. Using in-core AOs.\\n\\n  ==> MemDFJK: Density-Fitted J/K Matrices <==\\n\\n    J tasked:                   Yes\\n    K tasked:                   Yes\\n    wK tasked:                   No\\n    OpenMP threads:              10\\n    Memory [MiB]:             79002\\n    Algorithm:                 Core\\n    Schwarz Cutoff:           1E-12\\n    Mask sparsity (%):       0.0000\\n    Fitting Condition:        1E-10\\n\\n   => Auxiliary Basis Set <=\\n\\n  Basis Set: (6-31G AUX)\\n    Blend: CC-PVDZ-JKFIT\\n    Number of shells: 42\\n    Number of basis function: 131\\n    Number of Cartesian functions: 131\\n    Spherical Harmonics?: false\\n    Max angular momentum: 3\\n\\n  Cached 100.0% of DFT collocation blocks in 0.024 [GiB].\\n\\n  Minimum eigenvalue in the overlap matrix is 6.9275791978E-02.\\n  Using Symmetric Orthogonalization.\\n\\n  SCF Guess: Superposition of Atomic Densities via on-the-fly atomic UHF.\\n\\n  ==> Iterations <==\\n\\n                           Total Energy        Delta E     RMS |[F,P]|\\n\\n   @DF-RKS iter SAD:   -76.10517227900907   -7.61052e+01   0.00000e+00 \\n   @DF-RKS iter   1:   -76.23419915639703   -1.29027e-01   5.62318e-02 DIIS\\n   @DF-RKS iter   2:   -76.06889050009440    1.65309e-01   8.10132e-02 DIIS\\n   @DF-RKS iter   3:   -76.38541834683728   -3.16528e-01   8.26396e-04 DIIS\\n   @DF-RKS iter   4:   -76.38546626734282   -4.79205e-05   1.32699e-04 DIIS\\n   @DF-RKS iter   5:   -76.38546709730579   -8.29963e-07   4.56410e-06 DIIS\\n   @DF-RKS iter   6:   -76.38546709866571   -1.35992e-09   3.25500e-07 DIIS\\n  Energy and wave function converged.\\n\\n\\n  ==> Post-Iterations <==\\n\\n    Orbital Energies [Eh]\\n    ---------------------\\n\\n    Doubly Occupied:                                                      \\n\\n       1Ap   -19.135456     2Ap    -1.014438     3Ap    -0.525511  \\n       4Ap    -0.357327     1App   -0.291839  \\n\\n    Virtual:                                                              \\n\\n       5Ap     0.054131     6Ap     0.143369     7Ap     0.804602  \\n       8Ap     0.868223     2App    0.889069     9Ap     0.957747  \\n      10Ap     1.066263    11Ap     1.423418  \\n\\n    Final Occupation by Irrep:\\n             Ap   App \\n    DOCC [     4,    1 ]\\n\\n  @DF-RKS Final Energy:   -76.38546709866571\\n\\n   => Energetics <=\\n\\n    Nuclear Repulsion Energy =              9.0843644976862148\\n    One-Electron Energy =                -122.8614716442345554\\n    Two-Electron Energy =                  44.9531707139424626\\n    DFT Exchange-Correlation Energy =      -7.5615306660598316\\n    Empirical Dispersion Energy =           0.0000000000000000\\n    VV10 Nonlocal Energy =                  0.0000000000000000\\n    Total Energy =                        -76.3854670986657140\\n\\nComputation Completed\\n\\n\\nProperties will be evaluated at   0.000000,   0.000000,   0.000000 [a0]\\n\\nProperties computed using the SCF density matrix\\n\\n  Nuclear Dipole Moment: [e a0]\\n     X:     0.7983      Y:     0.5910      Z:     0.0000\\n\\n  Electronic Dipole Moment: [e a0]\\n     X:    -0.0192      Y:    -0.0142      Z:     0.0000\\n\\n  Dipole Moment: [e a0]\\n     X:     0.7791      Y:     0.5769      Z:     0.0000     Total:     0.9694\\n\\n  Dipole Moment: [D]\\n     X:     1.9803      Y:     1.4662      Z:     0.0000     Total:     2.4640\\n\\n\\n*** tstop() called on 37e993f6cff6 at Fri Nov 20 21:15:55 2020\\nModule time:\\n\\tuser time   =       9.39 seconds =       0.16 minutes\\n\\tsystem time =       0.58 seconds =       0.01 minutes\\n\\ttotal time  =          2 seconds =       0.03 minutes\\nTotal time:\\n\\tuser time   =       9.39 seconds =       0.16 minutes\\n\\tsystem time =       0.58 seconds =       0.01 minutes\\n\\ttotal time  =          2 seconds =       0.03 minutes\\n', 'stderr': None, 'success': True, 'error': None}]\n"
     ]
    }
   ],
   "source": [
    "# Can run this cell a few times to check job status as work completes\n",
    "r2 = requests.get(\n",
    "        f\"{HOST}/result\",\n",
    "        params={\"job_id\": r1.json()},\n",
    "    )\n",
    "print(r2)\n",
    "print(r2.json())"
   ]
  },
  {
   "cell_type": "code",
   "execution_count": 18,
   "metadata": {},
   "outputs": [
    {
     "output_type": "stream",
     "name": "stdout",
     "text": [
      "AtomicResult(driver='energy', model={'method': 'B3LYP', 'basis': '6-31g'}, molecule_hash='04bca57')\n-76.38546709866571\n"
     ]
    }
   ],
   "source": [
    "# Print out final results\n",
    "result = AtomicResult(**r2.json()[1])\n",
    "print(result)\n",
    "print(result.return_result)"
   ]
  },
  {
   "cell_type": "code",
   "execution_count": 23,
   "metadata": {},
   "outputs": [
    {
     "output_type": "stream",
     "name": "stdout",
     "text": [
      "('\\n'\n '  Memory set to 102.900 GiB by Python driver.\\n'\n '\\n'\n '*** tstart() called on 37e993f6cff6\\n'\n '*** at Fri Nov 20 21:15:53 2020\\n'\n '\\n'\n '   => Loading Basis Set <=\\n'\n '\\n'\n '    Name: 6-31G\\n'\n '    Role: ORBITAL\\n'\n '    Keyword: BASIS\\n'\n '    atoms 1   entry O          line   117 file '\n '/opt/conda/share/psi4/basis/6-31g.gbs \\n'\n '    atoms 2-3 entry H          line    26 file '\n '/opt/conda/share/psi4/basis/6-31g.gbs \\n'\n '\\n'\n '\\n'\n '         ---------------------------------------------------------\\n'\n '                                   SCF\\n'\n '               by Justin Turney, Rob Parrish, Andy Simmonett\\n'\n '                          and Daniel G. A. Smith\\n'\n '                              RKS Reference\\n'\n '                       10 Threads, 105369 MiB Core\\n'\n '         ---------------------------------------------------------\\n'\n '\\n'\n '  ==> Geometry <==\\n'\n '\\n'\n '    Molecular point group: cs\\n'\n '    Full point group: Cs\\n'\n '\\n'\n '    Geometry (in Bohr), charge = 0, multiplicity = 1:\\n'\n '\\n'\n '       Center              X                  Y                   '\n 'Z               Mass       \\n'\n '    ------------   -----------------  -----------------  -----------------  '\n '-----------------\\n'\n '         O           -0.101421708577    -0.075093323676     '\n '0.000000000000    15.994914619570\\n'\n '         H           -0.053694055594     1.755409227468     '\n '0.000000000000     1.007825032230\\n'\n '         H            1.663330170371    -0.563623687031     '\n '0.000000000000     1.007825032230\\n'\n '\\n'\n '  Running in cs symmetry.\\n'\n '\\n'\n '  Rotational constants: A =     26.44908  B =     14.34823  C =      9.30202 '\n '[cm^-1]\\n'\n '  Rotational constants: A = 792923.47827  B = 430148.98626  C = 278867.55712 '\n '[MHz]\\n'\n '  Nuclear repulsion =    9.084364497686215\\n'\n '\\n'\n '  Charge       = 0\\n'\n '  Multiplicity = 1\\n'\n '  Electrons    = 10\\n'\n '  Nalpha       = 5\\n'\n '  Nbeta        = 5\\n'\n '\\n'\n '  ==> Algorithm <==\\n'\n '\\n'\n '  SCF Algorithm Type is DF.\\n'\n '  DIIS enabled.\\n'\n '  MOM disabled.\\n'\n '  Fractional occupation disabled.\\n'\n '  Guess Type is SAD.\\n'\n '  Energy threshold   = 1.00e-06\\n'\n '  Density threshold  = 1.00e-06\\n'\n '  Integral threshold = 0.00e+00\\n'\n '\\n'\n '  ==> Primary Basis <==\\n'\n '\\n'\n '  Basis Set: 6-31G\\n'\n '    Blend: 6-31G\\n'\n '    Number of shells: 9\\n'\n '    Number of basis function: 13\\n'\n '    Number of Cartesian functions: 13\\n'\n '    Spherical Harmonics?: false\\n'\n '    Max angular momentum: 1\\n'\n '\\n'\n '  ==> DFT Potential <==\\n'\n '\\n'\n '   => Composite Functional: B3LYP <= \\n'\n '\\n'\n '    B3LYP Hyb-GGA Exchange-Correlation Functional\\n'\n '\\n'\n '    P. J. Stephens, F. J. Devlin, C. F. Chabalowski, and M. J. Frisch, J. '\n 'Phys. Chem. 98, 11623 (1994)\\n'\n '\\n'\n '    Deriv               =              1\\n'\n '    GGA                 =           TRUE\\n'\n '    Meta                =          FALSE\\n'\n '\\n'\n '    Exchange Hybrid     =           TRUE\\n'\n '    MP2 Hybrid          =          FALSE\\n'\n '\\n'\n '   => Exchange Functionals <=\\n'\n '\\n'\n '    0.0800   Slater exchange\\n'\n '    0.7200         Becke 88\\n'\n '\\n'\n '   => Exact (HF) Exchange <=\\n'\n '\\n'\n '    0.2000               HF \\n'\n '\\n'\n '   => Correlation Functionals <=\\n'\n '\\n'\n '    0.1900   Vosko, Wilk & Nusair (VWN5_RPA)\\n'\n '    0.8100   Lee, Yang & Parr\\n'\n '\\n'\n '   => Molecular Quadrature <=\\n'\n '\\n'\n '    Radial Scheme          =       TREUTLER\\n'\n '    Pruning Scheme         =           FLAT\\n'\n '    Nuclear Scheme         =       TREUTLER\\n'\n '\\n'\n '    BS radius alpha        =              1\\n'\n '    Pruning alpha          =              1\\n'\n '    Radial Points          =             75\\n'\n '    Spherical Points       =            302\\n'\n '    Total Points           =          65565\\n'\n '    Total Blocks           =            557\\n'\n '    Max Points             =            256\\n'\n '    Max Functions          =             13\\n'\n '\\n'\n '   => Loading Basis Set <=\\n'\n '\\n'\n '    Name: (6-31G AUX)\\n'\n '    Role: JKFIT\\n'\n '    Keyword: DF_BASIS_SCF\\n'\n '    atoms 1   entry O          line   221 file '\n '/opt/conda/share/psi4/basis/cc-pvdz-jkfit.gbs \\n'\n '    atoms 2-3 entry H          line    51 file '\n '/opt/conda/share/psi4/basis/cc-pvdz-jkfit.gbs \\n'\n '\\n'\n '  ==> Pre-Iterations <==\\n'\n '\\n'\n '   -------------------------------------------------------\\n'\n '    Irrep   Nso     Nmo     Nalpha   Nbeta   Ndocc  Nsocc\\n'\n '   -------------------------------------------------------\\n'\n \"     A'        11      11       0       0       0       0\\n\"\n '     A\"         2       2       0       0       0       0\\n'\n '   -------------------------------------------------------\\n'\n '    Total      13      13       5       5       5       0\\n'\n '   -------------------------------------------------------\\n'\n '\\n'\n '  ==> Integral Setup <==\\n'\n '\\n'\n '  DFHelper Memory: AOs need 0.000 GiB; user supplied 77.151 GiB. Using '\n 'in-core AOs.\\n'\n '\\n'\n '  ==> MemDFJK: Density-Fitted J/K Matrices <==\\n'\n '\\n'\n '    J tasked:                   Yes\\n'\n '    K tasked:                   Yes\\n'\n '    wK tasked:                   No\\n'\n '    OpenMP threads:              10\\n'\n '    Memory [MiB]:             79002\\n'\n '    Algorithm:                 Core\\n'\n '    Schwarz Cutoff:           1E-12\\n'\n '    Mask sparsity (%):       0.0000\\n'\n '    Fitting Condition:        1E-10\\n'\n '\\n'\n '   => Auxiliary Basis Set <=\\n'\n '\\n'\n '  Basis Set: (6-31G AUX)\\n'\n '    Blend: CC-PVDZ-JKFIT\\n'\n '    Number of shells: 42\\n'\n '    Number of basis function: 131\\n'\n '    Number of Cartesian functions: 131\\n'\n '    Spherical Harmonics?: false\\n'\n '    Max angular momentum: 3\\n'\n '\\n'\n '  Cached 100.0% of DFT collocation blocks in 0.024 [GiB].\\n'\n '\\n'\n '  Minimum eigenvalue in the overlap matrix is 6.9275791978E-02.\\n'\n '  Using Symmetric Orthogonalization.\\n'\n '\\n'\n '  SCF Guess: Superposition of Atomic Densities via on-the-fly atomic UHF.\\n'\n '\\n'\n '  ==> Iterations <==\\n'\n '\\n'\n '                           Total Energy        Delta E     RMS |[F,P]|\\n'\n '\\n'\n '   @DF-RKS iter SAD:   -76.10517227900907   -7.61052e+01   0.00000e+00 \\n'\n '   @DF-RKS iter   1:   -76.23419915639703   -1.29027e-01   5.62318e-02 DIIS\\n'\n '   @DF-RKS iter   2:   -76.06889050009440    1.65309e-01   8.10132e-02 DIIS\\n'\n '   @DF-RKS iter   3:   -76.38541834683728   -3.16528e-01   8.26396e-04 DIIS\\n'\n '   @DF-RKS iter   4:   -76.38546626734282   -4.79205e-05   1.32699e-04 DIIS\\n'\n '   @DF-RKS iter   5:   -76.38546709730579   -8.29963e-07   4.56410e-06 DIIS\\n'\n '   @DF-RKS iter   6:   -76.38546709866571   -1.35992e-09   3.25500e-07 DIIS\\n'\n '  Energy and wave function converged.\\n'\n '\\n'\n '\\n'\n '  ==> Post-Iterations <==\\n'\n '\\n'\n '    Orbital Energies [Eh]\\n'\n '    ---------------------\\n'\n '\\n'\n '    Doubly Occupied:                                                      \\n'\n '\\n'\n '       1Ap   -19.135456     2Ap    -1.014438     3Ap    -0.525511  \\n'\n '       4Ap    -0.357327     1App   -0.291839  \\n'\n '\\n'\n '    Virtual:                                                              \\n'\n '\\n'\n '       5Ap     0.054131     6Ap     0.143369     7Ap     0.804602  \\n'\n '       8Ap     0.868223     2App    0.889069     9Ap     0.957747  \\n'\n '      10Ap     1.066263    11Ap     1.423418  \\n'\n '\\n'\n '    Final Occupation by Irrep:\\n'\n '             Ap   App \\n'\n '    DOCC [     4,    1 ]\\n'\n '\\n'\n '  @DF-RKS Final Energy:   -76.38546709866571\\n'\n '\\n'\n '   => Energetics <=\\n'\n '\\n'\n '    Nuclear Repulsion Energy =              9.0843644976862148\\n'\n '    One-Electron Energy =                -122.8614716442345554\\n'\n '    Two-Electron Energy =                  44.9531707139424626\\n'\n '    DFT Exchange-Correlation Energy =      -7.5615306660598316\\n'\n '    Empirical Dispersion Energy =           0.0000000000000000\\n'\n '    VV10 Nonlocal Energy =                  0.0000000000000000\\n'\n '    Total Energy =                        -76.3854670986657140\\n'\n '\\n'\n 'Computation Completed\\n'\n '\\n'\n '\\n'\n 'Properties will be evaluated at   0.000000,   0.000000,   0.000000 [a0]\\n'\n '\\n'\n 'Properties computed using the SCF density matrix\\n'\n '\\n'\n '  Nuclear Dipole Moment: [e a0]\\n'\n '     X:     0.7983      Y:     0.5910      Z:     0.0000\\n'\n '\\n'\n '  Electronic Dipole Moment: [e a0]\\n'\n '     X:    -0.0192      Y:    -0.0142      Z:     0.0000\\n'\n '\\n'\n '  Dipole Moment: [e a0]\\n'\n '     X:     0.7791      Y:     0.5769      Z:     0.0000     Total:     '\n '0.9694\\n'\n '\\n'\n '  Dipole Moment: [D]\\n'\n '     X:     1.9803      Y:     1.4662      Z:     0.0000     Total:     '\n '2.4640\\n'\n '\\n'\n '\\n'\n '*** tstop() called on 37e993f6cff6 at Fri Nov 20 21:15:55 2020\\n'\n 'Module time:\\n'\n '\\tuser time   =       9.39 seconds =       0.16 minutes\\n'\n '\\tsystem time =       0.58 seconds =       0.01 minutes\\n'\n '\\ttotal time  =          2 seconds =       0.03 minutes\\n'\n 'Total time:\\n'\n '\\tuser time   =       9.39 seconds =       0.16 minutes\\n'\n '\\tsystem time =       0.58 seconds =       0.01 minutes\\n'\n '\\ttotal time  =          2 seconds =       0.03 minutes\\n')\n"
     ]
    }
   ],
   "source": [
    "from pprint import pprint\n",
    "pprint(result.stdout)"
   ]
  },
  {
   "cell_type": "code",
   "execution_count": 22,
   "metadata": {},
   "outputs": [
    {
     "output_type": "execute_result",
     "data": {
      "text/plain": [
       "['id',\n",
       " 'schema_name',\n",
       " 'schema_version',\n",
       " 'molecule',\n",
       " 'driver',\n",
       " 'model',\n",
       " 'keywords',\n",
       " 'protocols',\n",
       " 'extras',\n",
       " 'provenance',\n",
       " 'properties',\n",
       " 'wavefunction',\n",
       " 'return_result',\n",
       " 'stdout',\n",
       " 'stderr',\n",
       " 'success',\n",
       " 'error',\n",
       " '__config__',\n",
       " '__fields__',\n",
       " '__validators__',\n",
       " '__pre_root_validators__',\n",
       " '__post_root_validators__',\n",
       " '__schema_cache__',\n",
       " '__json_encoder__',\n",
       " '__custom_root_type__',\n",
       " '__private_attributes__',\n",
       " '__slots__',\n",
       " '__module__',\n",
       " '__annotations__',\n",
       " '_input_to_output',\n",
       " '_validate_return_result',\n",
       " '_wavefunction_protocol',\n",
       " '_stdout_protocol',\n",
       " '__doc__',\n",
       " '__base_doc__',\n",
       " '__model_autodoc_applied__',\n",
       " '__abstractmethods__',\n",
       " '_abc_impl',\n",
       " '__signature__',\n",
       " '__repr_args__',\n",
       " '__repr__',\n",
       " '__str__',\n",
       " 'Config',\n",
       " '__init_subclass__',\n",
       " 'parse_raw',\n",
       " 'parse_file',\n",
       " 'dict',\n",
       " 'serialize',\n",
       " 'json',\n",
       " 'compare',\n",
       " '__init__',\n",
       " '__setattr__',\n",
       " '__getstate__',\n",
       " '__setstate__',\n",
       " '_init_private_attributes',\n",
       " 'parse_obj',\n",
       " 'from_orm',\n",
       " 'construct',\n",
       " 'copy',\n",
       " 'schema',\n",
       " 'schema_json',\n",
       " '__get_validators__',\n",
       " 'validate',\n",
       " '_decompose_class',\n",
       " '_get_value',\n",
       " 'update_forward_refs',\n",
       " '__iter__',\n",
       " '_iter',\n",
       " '_calculate_keys',\n",
       " '__eq__',\n",
       " 'fields',\n",
       " 'to_string',\n",
       " '__values__',\n",
       " '__fields_set__',\n",
       " '__dict__',\n",
       " '__hash__',\n",
       " '__repr_name__',\n",
       " '__repr_str__',\n",
       " '__pretty__',\n",
       " '__getattribute__',\n",
       " '__delattr__',\n",
       " '__lt__',\n",
       " '__le__',\n",
       " '__ne__',\n",
       " '__gt__',\n",
       " '__ge__',\n",
       " '__new__',\n",
       " '__reduce_ex__',\n",
       " '__reduce__',\n",
       " '__subclasshook__',\n",
       " '__format__',\n",
       " '__sizeof__',\n",
       " '__dir__',\n",
       " '__class__']"
      ]
     },
     "metadata": {},
     "execution_count": 22
    }
   ],
   "source": []
  },
  {
   "cell_type": "code",
   "execution_count": 28,
   "metadata": {},
   "outputs": [],
   "source": [
    "result.stderr"
   ]
  }
 ]
}